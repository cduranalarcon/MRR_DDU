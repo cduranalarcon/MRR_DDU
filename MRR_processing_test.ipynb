{
 "cells": [
  {
   "cell_type": "markdown",
   "metadata": {},
   "source": [
    "# Notebook for MRR processing\n",
    "\n",
    "By: Claudio Duran-Alarcon - PhD student, IGE\n",
    "\n",
    "PhD Directors: Brice Boudevillain, Alexis Berne\n",
    "\n",
    "Project: ANR-APRES3, Director: Christophe Genthon\n",
    "\n",
    "## Importing libraries"
   ]
  },
  {
   "cell_type": "code",
   "execution_count": 16,
   "metadata": {
    "collapsed": false
   },
   "outputs": [],
   "source": [
    "import sys, os\n",
    "sys.path.append(\"lib/\") # adding lib path\n",
    "from MRR_functions import check_RawFiles as crf  # Check Raw files for corrupted characters\n",
    "from MRR_functions import raw2snow # Process raw data into Doppler moments using MK2012\n",
    "from MRR_functions import densplot # 2D density plots\n",
    "from MRR_functions import QuickL #MRR QuickLooks\n",
    "import time, warnings, pylab\n",
    "from netCDF4 import Dataset # Read and write ncCDF files\n",
    "from netCDF4 import MFDataset # Read Multiple netCDF files\n",
    "\n",
    "#warnings.filterwarnings(\"ignore\") #Ignore IMProToo warmings\n",
    "Short_name_station = \"DDU\" #Define folter station name\n",
    "name_station = '_'.join(Short_name_station.split(' '))\n",
    "path = \"Data/\"+name_station+\"/\"\n",
    "\n",
    "#Creating output folders\n",
    "if os.path.exists(os.path.dirname('Data/DDU/MK_processed/')) == False: \n",
    "    os.mkdir(os.path.dirname('Data/DDU/MK_processed/')) \n",
    "if os.path.exists(os.path.dirname('Data/DDU/Plots/')) == False: \n",
    "    os.mkdir(os.path.dirname('Data/DDU/Plots/')) \n",
    "if os.path.exists(os.path.dirname('Data/DDU/temp/')) == False: \n",
    "    os.mkdir(os.path.dirname('Data/DDU/temp/')) \n",
    "if os.path.exists(os.path.dirname('Data/DDU/Plots/Doppler_Moments/')) == False: \n",
    "    os.mkdir(os.path.dirname('Data/DDU/Plots/Doppler_Moments/')) \n",
    "if os.path.exists(os.path.dirname('Data/DDU/Plots/Vertical_profiles/')) == False: \n",
    "    os.mkdir(os.path.dirname('Data/DDU/Plots/Vertical_profiles/')) \n",
    "    \n",
    "#Decription of the output files\n",
    "Descr = \"MRR data at \" + name_station + \", first MRR processed with MK12 method v.0.103.\"\n",
    "\n",
    "#Temporal Resolution\n",
    "TRES = 60 #Seconds"
   ]
  },
  {
   "cell_type": "markdown",
   "metadata": {},
   "source": [
    "## Process data"
   ]
  },
  {
   "cell_type": "code",
   "execution_count": 8,
   "metadata": {
    "collapsed": true
   },
   "outputs": [],
   "source": [
    "#Define Dates\n",
    "years =  [2017] # e.g.  [2014];  [2014,2015];  range(2014,2016)   \n",
    "months = [2] # e.g.  [12];  [4,5,6];  range(1,13)   \n",
    "days  = [8,9,10]#range(8,9)# e.g.  [1];  [1,2,4];  range(1,5)   "
   ]
  },
  {
   "cell_type": "markdown",
   "metadata": {},
   "source": [
    "### Process all the files within the defined period of dates"
   ]
  },
  {
   "cell_type": "code",
   "execution_count": 15,
   "metadata": {
    "collapsed": false
   },
   "outputs": [
    {
     "name": "stdout",
     "output_type": "stream",
     "text": [
      "NetCDF file ready 2017/02/08\n",
      "NetCDF file ready 2017/02/09\n",
      "NetCDF file ready 2017/02/10\n"
     ]
    }
   ],
   "source": [
    "for year in years:\n",
    "    for month in months:\n",
    "        for day in days: \n",
    "            file_in = path+\"RawSpectra/\"+str(year)+str(month).zfill(2)+\"/\"+str(month).zfill(2)+str(day).zfill(2)+\".raw\"\n",
    "            file_out = path+\"MK_processed/\"+str(year)+str(month).zfill(2)+\"/\"+name_station+\"_\"+str(year)+str(month).zfill(2)+str(day).zfill(2)+\".nc\"\n",
    "            temp_file = path+\"temp/rawfile.raw\"\n",
    "            \n",
    "            if (os.path.isfile(file_in) == True): #Processes the data only once\n",
    "                \n",
    "                if (os.path.isfile(file_out) == False):\n",
    "                    \n",
    "                    if os.path.exists(os.path.dirname(file_out)) == False: os.mkdir(os.path.dirname(file_out))\n",
    "\n",
    "                    n_errors = crf(file_in, temp_file) #Check for particular characters in the rawfiles that stops the post-processing\n",
    "\n",
    "                    if n_errors > 0: \n",
    "                        time.sleep(10) #Gives times to the temporal file, ti be created\n",
    "                        raw2snow(temp_file,file_out, TRES = TRES, Descr = Descr) # Convert Raw into Doppler Moments using MK2012\n",
    "                    else:\n",
    "                        raw2snow(file_in,file_out, TRES = TRES, Descr = Descr)\n",
    "                else:\n",
    "                    print \"NetCDF file ready \"+str(year)+\"/\"+str(month).zfill(2)+\"/\"+str(day).zfill(2)\n",
    "            else:\n",
    "                print \"Raw file not found \"+str(year)+\"/\"+str(month).zfill(2)+\"/\"+str(day).zfill(2)"
   ]
  },
  {
   "cell_type": "markdown",
   "metadata": {},
   "source": [
    "## Quicklooks"
   ]
  },
  {
   "cell_type": "code",
   "execution_count": 11,
   "metadata": {
    "collapsed": false
   },
   "outputs": [
    {
     "name": "stdout",
     "output_type": "stream",
     "text": [
      "Figure ready 2017/02/09\n"
     ]
    }
   ],
   "source": [
    "#for year in years:\n",
    "#    for month in months:\n",
    "#        for day in days: \n",
    "\n",
    "        \n",
    "        \n",
    "QuickL(years[0], months[0], days[1], path)#, name_station = 'DDU', Ze_ranges = [-15, 30],W_ranges = [-6, 6], SW_ranges = [0, 1], cmap = 'jet',format = 'png',dpi=300)        "
   ]
  },
  {
   "cell_type": "code",
   "execution_count": null,
   "metadata": {
    "collapsed": false
   },
   "outputs": [],
   "source": []
  },
  {
   "cell_type": "markdown",
   "metadata": {
    "collapsed": false
   },
   "source": [
    "## Merging netCDF files\n",
    "\n"
   ]
  },
  {
   "cell_type": "code",
   "execution_count": 5,
   "metadata": {
    "collapsed": false
   },
   "outputs": [],
   "source": [
    "ds_names = []\n",
    "\n",
    "for year in years:\n",
    "    for month in months:\n",
    "        for day in days: \n",
    "            file_in = path+\"MK_processed/\"+str(year)+str(month).zfill(2)+\"/\"+name_station+\"_\"+str(year)+str(month).zfill(2)+str(day).zfill(2)+\".nc\"\n",
    "            fig_out = path+\"Plots/\"+str(year)+str(month).zfill(2)+\"/\"+name_station+\"_\"+str(year)+str(month).zfill(2)+str(day).zfill(2)\n",
    "            \n",
    "            if (os.path.isfile(file_in) == True): #Processes the data only once\n",
    "                \n",
    "                if (os.path.isfile(fig_out) == False):\n",
    "                        \n",
    "                    ds = Dataset(file_in)  \n",
    "                    \n",
    "                    ds_names.append(file_in)\n",
    "                    \n",
    "                    ds.close()\n",
    "\n",
    "                    \n",
    "ds_merged = MFDataset(ds_names)\n",
    "\n",
    "times = ds_merged.variables[\"time\"][:]\n",
    "height = ds_merged.variables[\"height\"][:]\n",
    "Ze = ds_merged.variables[\"Ze\"][:]\n",
    "W =  ds_merged.variables[\"W\"][:]\n",
    "SW = ds_merged.variables[\"spectralWidth\"][:]"
   ]
  },
  {
   "cell_type": "code",
   "execution_count": null,
   "metadata": {
    "collapsed": false
   },
   "outputs": [],
   "source": []
  },
  {
   "cell_type": "markdown",
   "metadata": {
    "collapsed": false
   },
   "source": [
    "## Plots of vertical structure"
   ]
  },
  {
   "cell_type": "code",
   "execution_count": 6,
   "metadata": {
    "collapsed": false
   },
   "outputs": [
    {
     "data": {
      "image/png": "[encoded data removed]",
      "text/plain": [
       "<matplotlib.figure.Figure at 0x2acdc88>"
      ]
     },
     "metadata": {},
     "output_type": "display_data"
    }
   ],
   "source": [
    "var1 = W #dBZe\n",
    "var2 = height/1000. #km\n",
    "\n",
    "densplot(var1,var2,title=\"Ze\",bins = [50,31], \n",
    "         Range = [[-20,20],[0,3]],\n",
    "         xlab = 'Ze [dBZe]',\n",
    "         ylab= 'Height [km]', \n",
    "         cbar_label = '%')\n",
    "pylab.show()"
   ]
  }
 ],
 "metadata": {
  "anaconda-cloud": {},
  "kernelspec": {
   "display_name": "Python [default]",
   "language": "python",
   "name": "python2"
  },
  "language_info": {
   "codemirror_mode": {
    "name": "ipython",
    "version": 2
   },
   "file_extension": ".py",
   "mimetype": "text/x-python",
   "name": "python",
   "nbconvert_exporter": "python",
   "pygments_lexer": "ipython2",
   "version": "2.7.12"
  }
 },
 "nbformat": 4,
 "nbformat_minor": 1
}
